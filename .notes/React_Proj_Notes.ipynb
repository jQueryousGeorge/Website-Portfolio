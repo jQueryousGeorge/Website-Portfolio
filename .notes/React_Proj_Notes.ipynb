{
 "cells": [
  {
   "cell_type": "markdown",
   "id": "e4d60362",
   "metadata": {},
   "source": [
    "### Underscores \n",
    "- are used in the names of `.scss` files to specify they are partial files / stylesheets. The underscore tells Sass that this is a partial file - it's not meant to be compiled into its own CSS file. Instead, it gets imported into other SCSS files.\n",
    "o\tThis keeps your CSS organized - variables, mixins, and utilities stay in partials, while main style files use them.\n",
    "\n",
    "### Dollar Signs for Variables\n",
    "- (I have seen these in `.scss` files, I’m sure they’re used elsewhere, too). In SCSS, a `$` declares variables (like `let` or `const` in JavaScript): ->\n",
    "\n",
    "``` scss\n",
    "// SCSS variables\n",
    "$desktop-teal: #008080;\n",
    "$window-gray: #c0c0c0;\n",
    "\n",
    "// Used later in the same file or imported files\n",
    ".desktop {\n",
    "  background-color: $desktop-teal;\n",
    "}\n",
    "\n",
    ".window {\n",
    "  background-color: $window-gray;\n",
    "}\n",
    "```"
   ]
  }
 ],
 "metadata": {
  "language_info": {
   "name": "python"
  }
 },
 "nbformat": 4,
 "nbformat_minor": 5
}
